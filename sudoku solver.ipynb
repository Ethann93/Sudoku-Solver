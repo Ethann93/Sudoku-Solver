{
 "cells": [
  {
   "cell_type": "code",
   "execution_count": 12,
   "id": "0c67791f",
   "metadata": {},
   "outputs": [],
   "source": [
    "board=[[4,0,0,9,0,0,3,0,0],\n",
    "       [0,6,0,1,0,0,0,0,9],\n",
    "       [9,0,0,0,0,4,0,6,0],\n",
    "       [3,0,0,2,1,8,7,0,5],\n",
    "       [1,0,0,4,0,0,8,0,0],\n",
    "       [0,8,4,0,0,3,0,0,6],\n",
    "       [0,7,0,0,3,0,9,0,0],\n",
    "       [8,0,0,0,4,0,0,5,0],\n",
    "       [0,0,0,0,2,7,0,0,0]]"
   ]
  },
  {
   "cell_type": "code",
   "execution_count": 2,
   "id": "b7a364d8",
   "metadata": {},
   "outputs": [],
   "source": [
    "def solve(bo):\n",
    "    \n",
    "    find = find_empty(bo)\n",
    "    if not find:\n",
    "        return True\n",
    "    else:\n",
    "        row, col = find\n",
    "   \n",
    "    #loop for values 1-10 and add it to the baord if they are valid\n",
    "    for i in range(1,10):\n",
    "        if valid(bo, i, (row,col)): #add to the board to check if valid\n",
    "            bo[row][col] = i\n",
    "            \n",
    "            if solve(bo):\n",
    "                return True\n",
    "            #reset the last element (backtracking)\n",
    "            bo[row][col] = 0\n",
    "    return False"
   ]
  },
  {
   "cell_type": "code",
   "execution_count": 3,
   "id": "70884b2e",
   "metadata": {},
   "outputs": [],
   "source": [
    "def valid(bo, num , pos):\n",
    "    \n",
    "    #check row\n",
    "    for i in range(len(bo[0])):\n",
    "        if bo[pos[0]][i] == num and pos[1] != i:\n",
    "            return False\n",
    "    \n",
    "    #check column\n",
    "    for i in range(len(bo)):\n",
    "         if bo[i][pos[1]] == num and pos[0] != i:\n",
    "            return False\n",
    "        \n",
    "    #check the boxes\n",
    "    box_x = pos[1] // 3\n",
    "    box_y = pos[0] // 3\n",
    "\n",
    "    for i in range(box_y * 3, box_y*3 + 3 ):\n",
    "        for j in range(box_x * 3, box_x*3 + 3 ):\n",
    "            if bo[i][j] == num and (i,j) !=pos:\n",
    "                return False\n",
    "    return True"
   ]
  },
  {
   "cell_type": "code",
   "execution_count": 4,
   "id": "734d7703",
   "metadata": {},
   "outputs": [],
   "source": [
    "def print_board(bo):\n",
    "    #print a line in every 3 horizontal line\n",
    "    for i in range(len(bo)):\n",
    "        if i % 3 == 0 and i !=0 :\n",
    "            print(\"- - - - - - - - - - - -\")\n",
    "   \n",
    "        # draw horizontal line for every 3 element\n",
    "        for j in range(len(bo[0])):\n",
    "            if j % 3 == 0 and j !=0:\n",
    "                print(\" | \", end=\"\")\n",
    "          #at the last position, we make a backslash and go to the next line      \n",
    "            if j == 8:\n",
    "                print(bo[i][j])\n",
    "            else:\n",
    "                print(str(bo[i][j]) + \" \",end=\"\")\n"
   ]
  },
  {
   "cell_type": "code",
   "execution_count": 10,
   "id": "38ad9b9a",
   "metadata": {},
   "outputs": [
    {
     "name": "stdout",
     "output_type": "stream",
     "text": [
      "4 0 0  | 9 0 0  | 3 0 0\n",
      "0 6 0  | 1 0 4  | 0 6 9\n",
      "9 0 0  | 0 0 4  | 0 6 0\n",
      "- - - - - - - - - - - -\n",
      "3 0 0  | 2 1 8  | 7 0 5\n",
      "1 0 0  | 4 0 0  | 8 0 0\n",
      "0 8 4  | 0 0 3  | 0 0 6\n",
      "- - - - - - - - - - - -\n",
      "0 7 0  | 0 3 0  | 9 0 0\n",
      "8 0 0  | 0 4 0  | 0 5 0\n",
      "0 0 0  | 0 2 7  | 0 0 0\n"
     ]
    }
   ],
   "source": [
    "print_board(board)"
   ]
  },
  {
   "cell_type": "code",
   "execution_count": 6,
   "id": "0df1ba91",
   "metadata": {},
   "outputs": [],
   "source": [
    "def find_empty(bo):\n",
    "    for i in range(len(bo)):\n",
    "        for j in range(len(bo[0])): #means the len of each row\n",
    "            if bo[i][j] == 0: #check if the position is empty\n",
    "                return(i, j) #return row and column\n",
    "    return None"
   ]
  },
  {
   "cell_type": "code",
   "execution_count": 13,
   "id": "59a31436",
   "metadata": {},
   "outputs": [
    {
     "name": "stdout",
     "output_type": "stream",
     "text": [
      "4 0 0  | 9 0 0  | 3 0 0\n",
      "0 6 0  | 1 0 0  | 0 0 9\n",
      "9 0 0  | 0 0 4  | 0 6 0\n",
      "- - - - - - - - - - - -\n",
      "3 0 0  | 2 1 8  | 7 0 5\n",
      "1 0 0  | 4 0 0  | 8 0 0\n",
      "0 8 4  | 0 0 3  | 0 0 6\n",
      "- - - - - - - - - - - -\n",
      "0 7 0  | 0 3 0  | 9 0 0\n",
      "8 0 0  | 0 4 0  | 0 5 0\n",
      "0 0 0  | 0 2 7  | 0 0 0\n",
      "solved puzzle is: \n",
      "4 1 5  | 9 6 2  | 3 7 8\n",
      "7 6 3  | 1 8 5  | 4 2 9\n",
      "9 2 8  | 3 7 4  | 5 6 1\n",
      "- - - - - - - - - - - -\n",
      "3 9 6  | 2 1 8  | 7 4 5\n",
      "1 5 7  | 4 9 6  | 8 3 2\n",
      "2 8 4  | 7 5 3  | 1 9 6\n",
      "- - - - - - - - - - - -\n",
      "6 7 2  | 5 3 1  | 9 8 4\n",
      "8 3 1  | 6 4 9  | 2 5 7\n",
      "5 4 9  | 8 2 7  | 6 1 3\n"
     ]
    }
   ],
   "source": [
    "print_board(board)\n",
    "print('solved puzzle is: ')\n",
    "solve(board)\n",
    "print_board(board)"
   ]
  },
  {
   "cell_type": "code",
   "execution_count": 8,
   "id": "dd1ba062",
   "metadata": {},
   "outputs": [
    {
     "data": {
      "text/plain": [
       "True"
      ]
     },
     "execution_count": 8,
     "metadata": {},
     "output_type": "execute_result"
    }
   ],
   "source": [
    "solve(board)"
   ]
  },
  {
   "cell_type": "code",
   "execution_count": null,
   "id": "ffb4af87",
   "metadata": {},
   "outputs": [],
   "source": []
  },
  {
   "cell_type": "code",
   "execution_count": null,
   "id": "4b0e6a38",
   "metadata": {},
   "outputs": [],
   "source": []
  },
  {
   "cell_type": "code",
   "execution_count": null,
   "id": "68880d0e",
   "metadata": {},
   "outputs": [],
   "source": []
  },
  {
   "cell_type": "code",
   "execution_count": null,
   "id": "9c6cdd9c",
   "metadata": {},
   "outputs": [],
   "source": []
  },
  {
   "cell_type": "code",
   "execution_count": null,
   "id": "62f16c44",
   "metadata": {},
   "outputs": [],
   "source": []
  },
  {
   "cell_type": "code",
   "execution_count": null,
   "id": "cf2c41af",
   "metadata": {},
   "outputs": [],
   "source": []
  },
  {
   "cell_type": "code",
   "execution_count": null,
   "id": "e4252bb0",
   "metadata": {},
   "outputs": [],
   "source": []
  },
  {
   "cell_type": "code",
   "execution_count": null,
   "id": "ef3512d9",
   "metadata": {},
   "outputs": [],
   "source": []
  },
  {
   "cell_type": "code",
   "execution_count": null,
   "id": "c4b26912",
   "metadata": {},
   "outputs": [],
   "source": []
  }
 ],
 "metadata": {
  "kernelspec": {
   "display_name": "Python 3",
   "language": "python",
   "name": "python3"
  },
  "language_info": {
   "codemirror_mode": {
    "name": "ipython",
    "version": 3
   },
   "file_extension": ".py",
   "mimetype": "text/x-python",
   "name": "python",
   "nbconvert_exporter": "python",
   "pygments_lexer": "ipython3",
   "version": "3.8.8"
  }
 },
 "nbformat": 4,
 "nbformat_minor": 5
}
